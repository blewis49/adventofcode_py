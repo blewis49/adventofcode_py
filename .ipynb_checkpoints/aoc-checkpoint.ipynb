{
 "cells": [
  {
   "cell_type": "code",
   "execution_count": 1,
   "metadata": {},
   "outputs": [],
   "source": [
    "import pandas as pd\n",
    "import numpy as np\n",
    "import re\n",
    "import csv"
   ]
  },
  {
   "cell_type": "code",
   "execution_count": null,
   "metadata": {},
   "outputs": [],
   "source": [
    "with open('./data/day1input.txt', 'r') as f:\n",
    "    changes = []\n",
    "    for line in f:\n",
    "        line = line.rstrip()\n",
    "        changes.append(line)\n",
    "data = pd.Series(changes)\n",
    "pd.to_numeric(data).sum()"
   ]
  },
  {
   "cell_type": "code",
   "execution_count": null,
   "metadata": {},
   "outputs": [],
   "source": [
    "a = pd.Series([+3, +3, +4, -2, -4])\n",
    "b = pd.Series([0])\n",
    "b.append(a).reset_index()[0]"
   ]
  },
  {
   "cell_type": "code",
   "execution_count": null,
   "metadata": {},
   "outputs": [],
   "source": [
    "test = pd.Series(['abcde','fghij','klmno','pqrst','fguij','axcye','wvxyz'])\n",
    "len(test)"
   ]
  },
  {
   "cell_type": "code",
   "execution_count": null,
   "metadata": {},
   "outputs": [],
   "source": [
    "import csv\n",
    "with open('./data/day2input.txt', 'r') as f:\n",
    "    lines = list(csv.reader(f))\n",
    "    count_diff = 0\n",
    "    for i in range(len(lines)):\n",
    "        for j in range(i+1,len(lines)-2):\n",
    "            for x,y in zip(lines[i],lines[j]):\n",
    "                for a,b in zip(x,y):\n",
    "                    count_diff = sum(a!=b for a,b in zip(x,y))\n",
    "                    if count_diff == 1:\n",
    "                        pos = [n for n, (a,b) in enumerate(zip(x,y)) if a!=b]\n",
    "                        x = x[:pos[0]] + x[(pos[0]+1):]\n",
    "                        print(x)\n",
    "                        break "
   ]
  },
  {
   "cell_type": "code",
   "execution_count": null,
   "metadata": {},
   "outputs": [],
   "source": [
    "#Method 1: iterator\n",
    "def str_iterator(string1, string2):\n",
    "    for i in range(len(string1)):\n",
    "        if string1[i]!=string2[i]:\n",
    "            pos = i\n",
    "    return pos\n",
    "\n",
    "str1 = 'ymdrchgpvwfloluktajxijsqmb'\n",
    "str2 = 'ymdrchgpvwfloluktajxijsqeb'\n",
    "str_iterator(str1,str2)"
   ]
  },
  {
   "cell_type": "code",
   "execution_count": null,
   "metadata": {},
   "outputs": [],
   "source": [
    "#Method 2: enumerate\n",
    "def str_iterator(string1, string2):\n",
    "    for n,(i,j) in enumerate(zip(string1,string2)):\n",
    "        if i!=j:\n",
    "            pos = n\n",
    "    return pos\n",
    "\n",
    "str1 = 'ymdrchgpvwfloluktajxijsqmb'\n",
    "str2 = 'ymdrchgpvwfloluktajxijsqeb'\n",
    "str_iterator(str1,str2)"
   ]
  },
  {
   "cell_type": "code",
   "execution_count": null,
   "metadata": {},
   "outputs": [],
   "source": [
    "#Method 3: list comprehension\n",
    "x = 'ymdrchgpvwfloluktajxijsqmb'\n",
    "y = 'ymdrchgpvwfloluktajxijsqeb'\n",
    "\n",
    "pos = [n for n, (a,b) in enumerate(zip(x,y)) if a!=b]\n",
    "pos[0]"
   ]
  },
  {
   "cell_type": "code",
   "execution_count": null,
   "metadata": {},
   "outputs": [],
   "source": [
    "arr = np.empty((8,4))\n",
    "for i in range(8):\n",
    "    arr[i] = i\n",
    "print(arr)"
   ]
  },
  {
   "cell_type": "code",
   "execution_count": null,
   "metadata": {},
   "outputs": [],
   "source": [
    "for i in range(8):\n",
    "    arr[i] += 1\n",
    "print(arr)"
   ]
  },
  {
   "cell_type": "code",
   "execution_count": 12,
   "metadata": {},
   "outputs": [
    {
     "name": "stdout",
     "output_type": "stream",
     "text": [
      "107663 square inches of total overlap.\n"
     ]
    }
   ],
   "source": [
    "with open('./data/day3input.txt', 'r') as f:\n",
    "    lines = list(csv.reader(f))\n",
    "    arr = build_init_matrix(lines) # invokes function with a list as param\n",
    "    \n",
    "    for str in lines:\n",
    "        new_str = str[0]+','+str[1]\n",
    "        regex = re.compile(r'[#@:x]')\n",
    "        a = regex.sub(',',new_str).split(',')\n",
    "        a = a[1:]\n",
    "        row_left = int(a[1])\n",
    "        row_right = int(a[1]) + int(a[3])\n",
    "        col_left = int(a[2])\n",
    "        col_right = int(a[2]) + int(a[4])\n",
    "        arr[row_left:row_right, col_left:col_right] += 1 \n",
    "        overlap = np.count_nonzero(arr[:] > 1)\n",
    "    print('{0} square inches of total overlap.'.format(overlap))"
   ]
  },
  {
   "cell_type": "code",
   "execution_count": 2,
   "metadata": {},
   "outputs": [],
   "source": [
    "def build_init_matrix(file): # file arg is a list of strings\n",
    "    init_row_size = [] \n",
    "    init_col_size = []\n",
    "    for str in file:\n",
    "        new_str = str[0]+','+str[1]\n",
    "        regex = re.compile(r'[#@:x]')\n",
    "        a = regex.sub(',',new_str).split(',')\n",
    "        a = a[1:]\n",
    "        init_row_size.append(int(a[2])+int(a[3]))\n",
    "        init_col_size.append(int(a[1])+int(a[4]))\n",
    "        max_rows = max(init_row_size)+1\n",
    "        max_cols = max(init_col_size)+1\n",
    "    arr = np.zeros((max_rows,max_cols))\n",
    "    return arr"
   ]
  },
  {
   "cell_type": "code",
   "execution_count": 15,
   "metadata": {},
   "outputs": [
    {
     "name": "stdout",
     "output_type": "stream",
     "text": [
      "1 \n",
      "2 \n",
      "3 \n"
     ]
    }
   ],
   "source": [
    "f = ['#1 @ 1,3: 4x4','#2 @ 3,1: 4x4','#3 @ 5,5: 2x2']  # ex. arr[1:5, 3:7] = arr[left:left+rows, top:top+cols]\n",
    "\n",
    "def claim_matrix(list):\n",
    "    for str in f:\n",
    "        regex = re.compile(r'[#@:x]')\n",
    "        a = regex.sub(',',str).split(',')\n",
    "        a = a[1:]\n",
    "        row_left = int(a[1])\n",
    "        row_right = int(a[1]) + int(a[3])\n",
    "        col_left = int(a[2])\n",
    "        col_right = int(a[2]) + int(a[4])\n",
    "        claim = arr[row_left:row_right, col_left:col_right]\n",
    "    return claim\n",
    "\n",
    "claim_matrix(f)\n",
    "        "
   ]
  },
  {
   "cell_type": "markdown",
   "metadata": {},
   "source": [
    "## DAY 4: Avent of Code 2018"
   ]
  },
  {
   "cell_type": "markdown",
   "metadata": {},
   "source": [
    "### Part 1"
   ]
  },
  {
   "cell_type": "code",
   "execution_count": 24,
   "metadata": {},
   "outputs": [
    {
     "name": "stdout",
     "output_type": "stream",
     "text": [
      "Guard# 523\n",
      "The max time a minute was slept was 14\n",
      "The minute slept most often was [38]\n",
      "19874\n",
      "The guard is #463 and the minute slept most is 49\n",
      "answer is 22687\n"
     ]
    }
   ],
   "source": [
    "with open('./data/day4input.txt') as file:\n",
    "    dict = {}\n",
    "    sleep_time=0\n",
    "\n",
    "    head = file.readlines()\n",
    "    head.sort()\n",
    "    for i, f in enumerate(head):\n",
    "        line = f.split()\n",
    "        \n",
    "        if 'Guard' in line:\n",
    "            guard = line[3]\n",
    "        elif 'falls' in line:\n",
    "            start_sleep = int(line[1][-3:-1])\n",
    "            \n",
    "        elif 'wakes' in line:\n",
    "            sleep_time = list(range(start_sleep, int(line[1][-3:-1])))\n",
    "            \n",
    "            if guard in dict.keys():\n",
    "                dict[guard] += sleep_time \n",
    "                \n",
    "            else:\n",
    "                dict[guard] = sleep_time\n",
    "            \n",
    "    # The guard who sleeps the most (longest list of numbers)\n",
    "    max_sleep = max(dict, key= lambda x: len(dict[x]))\n",
    "    guard_num = int(max_sleep[1:])\n",
    "    minutes_slept = dict[max_sleep]\n",
    "    \n",
    "    counts={}\n",
    "    for m in minutes_slept:\n",
    "        counts[m] = counts.get(m, 0) + 1\n",
    "    max_value = max(counts.values())\n",
    "    max_minute = [k for k, v in counts.items() if v == max_value] \n",
    "    \n",
    "    print('Guard#', guard_num)\n",
    "    print('The max time a minute was slept was {}'.format(max_value))\n",
    "    print('The minute slept most often was {}'.format(max_minute))\n",
    "    print(guard_num * int(max_minute[0]))\n",
    "    \n",
    "    # Function call to answer part 2 of day 4\n",
    "    minute, guard_num = most_slept_minute(dict)\n",
    "    print('The guard is {} and the minute slept most is {}'.format(guard_num, minute))\n",
    "    print('answer is', minute * int(guard_num[1:]))"
   ]
  },
  {
   "cell_type": "markdown",
   "metadata": {},
   "source": [
    "### Part 2"
   ]
  },
  {
   "cell_type": "code",
   "execution_count": 23,
   "metadata": {},
   "outputs": [],
   "source": [
    "def most_slept_minute(dict):\n",
    "    minute_freq = 0\n",
    "    for k,v in dict.items():\n",
    "        counts = {}\n",
    "        most_minute = 0\n",
    "        for m in v:\n",
    "            counts[m] = counts.get(m, 0) + 1\n",
    "        most_minute = max(counts.values())\n",
    "        if most_minute > minute_freq:\n",
    "            minute_freq = most_minute\n",
    "            minute = max(counts, key=counts.get)\n",
    "            guard = k\n",
    "    return (minute, guard)"
   ]
  },
  {
   "cell_type": "markdown",
   "metadata": {},
   "source": [
    "## Day 5"
   ]
  },
  {
   "cell_type": "markdown",
   "metadata": {},
   "source": [
    "### Part 1"
   ]
  },
  {
   "cell_type": "markdown",
   "metadata": {},
   "source": [
    "react() function definition: Iterate a list zipping adjacent 'polymer' elements together and checking if they are the same alphabetical character. If they are and one is lowercase and ther other uppercase or vice versa, then the two 'polymer' elements 'react' and are popped from the list.\n",
    "\n",
    "chk_react() function definition: Iterate a list zipping adjacent 'polymer' elements together and checking if they are the same alphabetical character. If they are and one is lowercase and ther other uppercase or vice versa, then increase the value of count by 1 to inform the while statement in the main code to continue to iterate."
   ]
  },
  {
   "cell_type": "code",
   "execution_count": 5,
   "metadata": {},
   "outputs": [],
   "source": [
    "def react(list):\n",
    "    for i, (x,y) in enumerate(zip(list[::],list[1::])):\n",
    "        if x.lower() == y.lower():  # are chars equal?\n",
    "            # do they react?\n",
    "            if (x in list) & ((x.islower() & y.isupper()) | (x.isupper() & y.islower())):\n",
    "                list.pop(i)  #to remove elements from a list\n",
    "                list.pop(i) # code is removing the first occurrence of y in list\n",
    "                return list\n",
    "    \n",
    "def chk_react(list):\n",
    "    check=0\n",
    "    for x,y in zip(list[::],list[1::]):\n",
    "        if x.lower() == y.lower():  # are chars equal?\n",
    "            # do they react?\n",
    "            if (x.islower() & y.isupper()) | (x.isupper() & y.islower()):\n",
    "                check += 1\n",
    "                return check\n",
    "                \n",
    "    return check"
   ]
  },
  {
   "cell_type": "markdown",
   "metadata": {},
   "source": [
    "I was getting an answer of 9203 until I added .splitlines()[0] to the end of the .read() method. Using only file.read() includes and end of line whitespace character '\\n' that gets counted in the final answer.  This is not correct.  Use file.read().splitlines[0] or file.read().strip() to remove the end of line character."
   ]
  },
  {
   "cell_type": "code",
   "execution_count": 22,
   "metadata": {},
   "outputs": [
    {
     "name": "stdout",
     "output_type": "stream",
     "text": [
      "The number of units remaining is 9202\n"
     ]
    }
   ],
   "source": [
    "with open('data/day5input.txt') as file:\n",
    "    f = file.read().strip()\n",
    "    my_list = [c for c in f if c is not None]\n",
    "    \n",
    "    while chk_react(my_list) > 0:\n",
    "        my_list = react(my_list)\n",
    "        \n",
    "    print('The number of units remaining is {}'.format(len(my_list)))"
   ]
  },
  {
   "cell_type": "code",
   "execution_count": 12,
   "metadata": {},
   "outputs": [
    {
     "name": "stdout",
     "output_type": "stream",
     "text": [
      "['dabAcCaCBAcCcaDA']\n",
      "The number of units remaining is 10\n"
     ]
    }
   ],
   "source": [
    "# test code\n",
    "val = []\n",
    "str = 'dabAcCaCBAcCcaDA'\n",
    "my_list = [c for c in str if c is not None]\n",
    "#polymer = str.splitlines()\n",
    "print(polymer)\n",
    "does_react = chk_react(my_list)\n",
    "\n",
    "while does_react > 0:\n",
    "    val = react(my_list)\n",
    "    does_react = chk_react(val)\n",
    "    my_list = val\n",
    "    \n",
    "\n",
    "print('The number of units remaining is {}'.format(len(my_list)))"
   ]
  },
  {
   "cell_type": "markdown",
   "metadata": {},
   "source": [
    "### Part 2"
   ]
  },
  {
   "cell_type": "code",
   "execution_count": 34,
   "metadata": {},
   "outputs": [
    {
     "name": "stdout",
     "output_type": "stream",
     "text": [
      "The answer is 4\n"
     ]
    }
   ],
   "source": [
    "# test code\n",
    "str = 'dabAcCaCBAcCcaDA'\n",
    "\n",
    "alphabet = string.ascii_lowercase\n",
    "alpha_list = [z for z in alphabet if z is not None]\n",
    "d ={}\n",
    "for letter in alpha_list:\n",
    "    my_list = [c for c in str if c is not None]\n",
    "    while (letter in my_list) | (letter.upper() in my_list):\n",
    "        my_list.remove(letter)\n",
    "        my_list.remove(letter.upper())\n",
    "        \n",
    "    while chk_react(my_list) > 0:\n",
    "        my_list = react(my_list)\n",
    "    d[letter] = len(my_list)\n",
    "    \n",
    "#print(d)\n",
    "print('The answer is', min(d.values()))"
   ]
  },
  {
   "cell_type": "code",
   "execution_count": null,
   "metadata": {},
   "outputs": [],
   "source": [
    "with open('data/day5input.txt') as file:\n",
    "    f = file.read().strip()\n",
    "    \n",
    "    alphabet = string.ascii_lowercase\n",
    "    alpha_list = [z for z in alphabet if z is not None]\n",
    "    d ={}\n",
    "    for letter in alpha_list:\n",
    "        my_list = [c for c in f if c is not None]\n",
    "        while (letter in my_list) | (letter.upper() in my_list):\n",
    "            my_list.remove(letter)\n",
    "            my_list.remove(letter.upper())\n",
    "        \n",
    "        while chk_react(my_list) > 0:\n",
    "            my_list = react(my_list)\n",
    "        d[letter] = len(my_list)\n",
    "        print(d[letter])\n",
    "    print('The answer is', min(d.values()))"
   ]
  }
 ],
 "metadata": {
  "kernelspec": {
   "display_name": "Python 3",
   "language": "python",
   "name": "python3"
  },
  "language_info": {
   "codemirror_mode": {
    "name": "ipython",
    "version": 3
   },
   "file_extension": ".py",
   "mimetype": "text/x-python",
   "name": "python",
   "nbconvert_exporter": "python",
   "pygments_lexer": "ipython3",
   "version": "3.6.5"
  }
 },
 "nbformat": 4,
 "nbformat_minor": 2
}
